{
 "cells": [
  {
   "cell_type": "code",
   "execution_count": 4,
   "id": "21417dc4-aa51-47bf-bf1a-dfcfc391e830",
   "metadata": {},
   "outputs": [
    {
     "name": "stdout",
     "output_type": "stream",
     "text": [
      "Defaulting to user installation because normal site-packages is not writeable\n",
      "Looking in indexes: https://download.pytorch.org/whl/cu118\n",
      "Requirement already satisfied: torch in /home/sakshi/.local/lib/python3.10/site-packages (2.6.0)\n",
      "Requirement already satisfied: torchvision in /home/sakshi/.local/lib/python3.10/site-packages (0.21.0)\n",
      "Requirement already satisfied: torchaudio in /home/sakshi/.local/lib/python3.10/site-packages (2.6.0+cu118)\n",
      "Requirement already satisfied: filelock in /usr/lib/python3/dist-packages (from torch) (3.6.0)\n",
      "Requirement already satisfied: typing-extensions>=4.10.0 in /home/sakshi/.local/lib/python3.10/site-packages (from torch) (4.12.2)\n",
      "Requirement already satisfied: networkx in /home/sakshi/.local/lib/python3.10/site-packages (from torch) (3.3)\n",
      "Requirement already satisfied: jinja2 in /home/sakshi/.local/lib/python3.10/site-packages (from torch) (3.1.3)\n",
      "Requirement already satisfied: fsspec in /home/sakshi/.local/lib/python3.10/site-packages (from torch) (2024.12.0)\n",
      "Requirement already satisfied: nvidia-cuda-nvrtc-cu12==12.4.127 in /home/sakshi/.local/lib/python3.10/site-packages (from torch) (12.4.127)\n",
      "Requirement already satisfied: nvidia-cuda-runtime-cu12==12.4.127 in /home/sakshi/.local/lib/python3.10/site-packages (from torch) (12.4.127)\n",
      "Requirement already satisfied: nvidia-cuda-cupti-cu12==12.4.127 in /home/sakshi/.local/lib/python3.10/site-packages (from torch) (12.4.127)\n",
      "Requirement already satisfied: nvidia-cudnn-cu12==9.1.0.70 in /home/sakshi/.local/lib/python3.10/site-packages (from torch) (9.1.0.70)\n",
      "Requirement already satisfied: nvidia-cublas-cu12==12.4.5.8 in /home/sakshi/.local/lib/python3.10/site-packages (from torch) (12.4.5.8)\n",
      "Requirement already satisfied: nvidia-cufft-cu12==11.2.1.3 in /home/sakshi/.local/lib/python3.10/site-packages (from torch) (11.2.1.3)\n",
      "Requirement already satisfied: nvidia-curand-cu12==10.3.5.147 in /home/sakshi/.local/lib/python3.10/site-packages (from torch) (10.3.5.147)\n",
      "Requirement already satisfied: nvidia-cusolver-cu12==11.6.1.9 in /home/sakshi/.local/lib/python3.10/site-packages (from torch) (11.6.1.9)\n",
      "Requirement already satisfied: nvidia-cusparse-cu12==12.3.1.170 in /home/sakshi/.local/lib/python3.10/site-packages (from torch) (12.3.1.170)\n",
      "Requirement already satisfied: nvidia-cusparselt-cu12==0.6.2 in /home/sakshi/.local/lib/python3.10/site-packages (from torch) (0.6.2)\n",
      "Requirement already satisfied: nvidia-nccl-cu12==2.21.5 in /home/sakshi/.local/lib/python3.10/site-packages (from torch) (2.21.5)\n",
      "Requirement already satisfied: nvidia-nvtx-cu12==12.4.127 in /home/sakshi/.local/lib/python3.10/site-packages (from torch) (12.4.127)\n",
      "Requirement already satisfied: nvidia-nvjitlink-cu12==12.4.127 in /home/sakshi/.local/lib/python3.10/site-packages (from torch) (12.4.127)\n",
      "Requirement already satisfied: triton==3.2.0 in /home/sakshi/.local/lib/python3.10/site-packages (from torch) (3.2.0)\n",
      "Requirement already satisfied: sympy==1.13.1 in /home/sakshi/.local/lib/python3.10/site-packages (from torch) (1.13.1)\n",
      "Requirement already satisfied: mpmath<1.4,>=1.1.0 in /home/sakshi/.local/lib/python3.10/site-packages (from sympy==1.13.1->torch) (1.3.0)\n",
      "Requirement already satisfied: numpy in /home/sakshi/.local/lib/python3.10/site-packages (from torchvision) (1.26.4)\n",
      "Requirement already satisfied: pillow!=8.3.*,>=5.3.0 in /home/sakshi/.local/lib/python3.10/site-packages (from torchvision) (11.1.0)\n",
      "Requirement already satisfied: MarkupSafe>=2.0 in /home/sakshi/.local/lib/python3.10/site-packages (from jinja2->torch) (2.1.5)\n"
     ]
    }
   ],
   "source": [
    "!pip install torch torchvision torchaudio --index-url https://download.pytorch.org/whl/cu118"
   ]
  },
  {
   "cell_type": "code",
   "execution_count": 42,
   "id": "8cb010d9-1c04-4d35-986f-13e0d5e2e492",
   "metadata": {},
   "outputs": [],
   "source": [
    "from transformers import AutoTokenizer, AutoModelForSequenceClassification\n",
    "import torch\n",
    "import pandas as pd\n",
    "import numpy as np\n",
    "import re"
   ]
  },
  {
   "cell_type": "code",
   "execution_count": 8,
   "id": "15b9b478-febc-46be-a305-201f97b55dc0",
   "metadata": {},
   "outputs": [
    {
     "name": "stderr",
     "output_type": "stream",
     "text": [
      "2025-03-31 11:49:04.484604: I tensorflow/core/util/port.cc:153] oneDNN custom operations are on. You may see slightly different numerical results due to floating-point round-off errors from different computation orders. To turn them off, set the environment variable `TF_ENABLE_ONEDNN_OPTS=0`.\n",
      "2025-03-31 11:49:04.644845: E external/local_xla/xla/stream_executor/cuda/cuda_fft.cc:467] Unable to register cuFFT factory: Attempting to register factory for plugin cuFFT when one has already been registered\n",
      "WARNING: All log messages before absl::InitializeLog() is called are written to STDERR\n",
      "E0000 00:00:1743401944.701415   25765 cuda_dnn.cc:8579] Unable to register cuDNN factory: Attempting to register factory for plugin cuDNN when one has already been registered\n",
      "E0000 00:00:1743401944.717442   25765 cuda_blas.cc:1407] Unable to register cuBLAS factory: Attempting to register factory for plugin cuBLAS when one has already been registered\n",
      "W0000 00:00:1743401944.835844   25765 computation_placer.cc:177] computation placer already registered. Please check linkage and avoid linking the same target more than once.\n",
      "W0000 00:00:1743401944.835869   25765 computation_placer.cc:177] computation placer already registered. Please check linkage and avoid linking the same target more than once.\n",
      "W0000 00:00:1743401944.835870   25765 computation_placer.cc:177] computation placer already registered. Please check linkage and avoid linking the same target more than once.\n",
      "W0000 00:00:1743401944.835871   25765 computation_placer.cc:177] computation placer already registered. Please check linkage and avoid linking the same target more than once.\n",
      "2025-03-31 11:49:04.852447: I tensorflow/core/platform/cpu_feature_guard.cc:210] This TensorFlow binary is optimized to use available CPU instructions in performance-critical operations.\n",
      "To enable the following instructions: AVX2 AVX512F AVX512_VNNI FMA, in other operations, rebuild TensorFlow with the appropriate compiler flags.\n"
     ]
    }
   ],
   "source": [
    "tokenizer = AutoTokenizer.from_pretrained('nlptown/bert-base-multilingual-uncased-sentiment')\n",
    "model = AutoModelForSequenceClassification.from_pretrained('nlptown/bert-base-multilingual-uncased-sentiment')"
   ]
  },
  {
   "cell_type": "code",
   "execution_count": 14,
   "id": "6846430b-83ca-47da-8c83-5aa2d63ef593",
   "metadata": {},
   "outputs": [],
   "source": [
    "tokens = tokenizer.encode('It was good but couldve been better. Great', return_tensors='pt')"
   ]
  },
  {
   "cell_type": "code",
   "execution_count": 19,
   "id": "d3a05db4-b1e6-4f29-807e-a83e288c7743",
   "metadata": {},
   "outputs": [
    {
     "data": {
      "text/plain": [
       "tensor([  101, 10197, 10140, 12050, 10502, 12296, 10598, 10662, 16197,   119,\n",
       "        11838,   102])"
      ]
     },
     "execution_count": 19,
     "metadata": {},
     "output_type": "execute_result"
    }
   ],
   "source": [
    "tokens[0]"
   ]
  },
  {
   "cell_type": "code",
   "execution_count": 20,
   "id": "7ab570c3-a775-460a-aafa-6cc113ca249d",
   "metadata": {},
   "outputs": [
    {
     "data": {
      "text/plain": [
       "'[CLS] it was good but couldve been better. great [SEP]'"
      ]
     },
     "execution_count": 20,
     "metadata": {},
     "output_type": "execute_result"
    }
   ],
   "source": [
    "tokenizer.decode(tokens[0])"
   ]
  },
  {
   "cell_type": "code",
   "execution_count": 15,
   "id": "7d3757a2-550e-40d9-aa5f-0c1036e89a1a",
   "metadata": {},
   "outputs": [],
   "source": [
    "result = model(tokens)"
   ]
  },
  {
   "cell_type": "markdown",
   "id": "ea792c9a-2449-4fb5-bf1a-89ad13dc4c19",
   "metadata": {},
   "source": [
    "the output from the model is a one-hot encoded list of scores  \n",
    "the position with the highest score represents the sentiment rating"
   ]
  },
  {
   "cell_type": "code",
   "execution_count": 22,
   "id": "870a0814-2693-4f3a-a89b-b728365471ff",
   "metadata": {},
   "outputs": [
    {
     "data": {
      "text/plain": [
       "SequenceClassifierOutput(loss=None, logits=tensor([[-2.7768, -1.2353,  1.4419,  1.9804,  0.4584]],\n",
       "       grad_fn=<AddmmBackward0>), hidden_states=None, attentions=None)"
      ]
     },
     "execution_count": 22,
     "metadata": {},
     "output_type": "execute_result"
    }
   ],
   "source": [
    "result"
   ]
  },
  {
   "cell_type": "markdown",
   "id": "3473eb7e-75e5-44f8-94ff-ae521febf191",
   "metadata": {},
   "source": [
    "the logits tensor is the direct output of the last linear layer of the model  \n",
    "each number corresponds to the model’s confidence score for that class  \n",
    "higher values indicate stronger confidence for that class"
   ]
  },
  {
   "cell_type": "code",
   "execution_count": 16,
   "id": "b4f545c8-aaf1-47a8-8dc1-b4b8b6b94d1a",
   "metadata": {},
   "outputs": [
    {
     "data": {
      "text/plain": [
       "tensor([[-2.7768, -1.2353,  1.4419,  1.9804,  0.4584]],\n",
       "       grad_fn=<AddmmBackward0>)"
      ]
     },
     "execution_count": 16,
     "metadata": {},
     "output_type": "execute_result"
    }
   ],
   "source": [
    "result.logits"
   ]
  },
  {
   "cell_type": "code",
   "execution_count": 25,
   "id": "455fd165-9bd5-424b-aa46-6a726b243d77",
   "metadata": {},
   "outputs": [
    {
     "data": {
      "text/plain": [
       "tensor(3)"
      ]
     },
     "execution_count": 25,
     "metadata": {},
     "output_type": "execute_result"
    }
   ],
   "source": [
    "torch.argmax(result.logits)"
   ]
  },
  {
   "cell_type": "code",
   "execution_count": 23,
   "id": "25fb1b71-d1be-4218-85e3-d28612a38f5a",
   "metadata": {},
   "outputs": [
    {
     "data": {
      "text/plain": [
       "4"
      ]
     },
     "execution_count": 23,
     "metadata": {},
     "output_type": "execute_result"
    }
   ],
   "source": [
    "int(torch.argmax(result.logits))+1"
   ]
  },
  {
   "cell_type": "code",
   "execution_count": 44,
   "id": "9dc26edc-7355-4c85-a60b-803c4074931d",
   "metadata": {},
   "outputs": [],
   "source": [
    "df = pd.read_csv('reddit_data_not_processed.csv')"
   ]
  },
  {
   "cell_type": "code",
   "execution_count": 48,
   "id": "e8cebd06-1f5c-479c-a7a5-b5d009858e40",
   "metadata": {},
   "outputs": [],
   "source": [
    "titles = df[['title']].copy()"
   ]
  },
  {
   "cell_type": "code",
   "execution_count": 59,
   "id": "41435730-ee15-4c54-b48c-202048bf50df",
   "metadata": {},
   "outputs": [],
   "source": [
    "def sentiment_score(title):\n",
    "    tokens = tokenizer.encode(title, return_tensors='pt')\n",
    "    result = model(tokens)\n",
    "    return int(torch.argmax(result.logits))"
   ]
  },
  {
   "cell_type": "code",
   "execution_count": 60,
   "id": "ffcfc4f2-f77b-4b4c-bf85-3f01053e3ef3",
   "metadata": {},
   "outputs": [
    {
     "data": {
      "text/plain": [
       "0"
      ]
     },
     "execution_count": 60,
     "metadata": {},
     "output_type": "execute_result"
    }
   ],
   "source": [
    "sentiment_score(df['title'].iloc[1])"
   ]
  },
  {
   "cell_type": "code",
   "execution_count": 61,
   "id": "893e3271-cc71-4393-87cc-1f3530f742c5",
   "metadata": {},
   "outputs": [],
   "source": [
    "df['sentiment'] = df['title'].apply(lambda x: sentiment_score(x[:100]))"
   ]
  },
  {
   "cell_type": "code",
   "execution_count": 62,
   "id": "1083064a-13d9-41ee-b604-18bd064ed4bd",
   "metadata": {},
   "outputs": [
    {
     "name": "stdout",
     "output_type": "stream",
     "text": [
      "                                                title  sentiment\n",
      "0                      Does everyone fuck up in life?          0\n",
      "1                                 I Wana kill my self          0\n",
      "2                                          Struggling          0\n",
      "3   I have lost all of my close friends. Don't kno...          1\n",
      "4                              It’s creeping in again          2\n",
      "5          Physical symptoms of a depressive episode?          0\n",
      "6                Damned if you do damned if you don't          0\n",
      "7   I am reaching my limit, I cant even find peace...          4\n",
      "8                         How much more could I take?          1\n",
      "9                           I don't understand myself          1\n",
      "10             Reminder-Brush your teeth its worth it          3\n",
      "11                                              Tired          0\n",
      "12  Asperger with bipolar who feels great again an...          4\n",
      "13                   There is something wrong with me          0\n",
      "14                         Sports Anxiety/ Depression          1\n",
      "15                                        I can't cry          4\n",
      "16  I only feel safe in bed. I can’t get out of it...          1\n",
      "17                               Reason to stay alíve          0\n",
      "18                             Nothing is good enough          0\n",
      "19                       I've lost my ability to read          1\n"
     ]
    }
   ],
   "source": [
    "print(df[['title', 'sentiment']].head(20))"
   ]
  },
  {
   "cell_type": "code",
   "execution_count": 58,
   "id": "a78bd2f9-50e6-4e94-bcc4-0cc01cbaa174",
   "metadata": {},
   "outputs": [
    {
     "name": "stdout",
     "output_type": "stream",
     "text": [
      "{0: '1 star', 1: '2 stars', 2: '3 stars', 3: '4 stars', 4: '5 stars'}\n"
     ]
    }
   ],
   "source": [
    "print(model.config.id2label)"
   ]
  }
 ],
 "metadata": {
  "kernelspec": {
   "display_name": "Python 3 (ipykernel)",
   "language": "python",
   "name": "python3"
  },
  "language_info": {
   "codemirror_mode": {
    "name": "ipython",
    "version": 3
   },
   "file_extension": ".py",
   "mimetype": "text/x-python",
   "name": "python",
   "nbconvert_exporter": "python",
   "pygments_lexer": "ipython3",
   "version": "3.10.12"
  }
 },
 "nbformat": 4,
 "nbformat_minor": 5
}
