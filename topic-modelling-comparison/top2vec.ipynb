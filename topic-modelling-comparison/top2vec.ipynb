{
 "cells": [
  {
   "cell_type": "code",
   "execution_count": 1,
   "id": "35f65be9-0d91-4722-97eb-25d9c3d35fa7",
   "metadata": {},
   "outputs": [],
   "source": [
    "import pandas as pd"
   ]
  },
  {
   "cell_type": "code",
   "execution_count": 6,
   "id": "ba19cc7f-0543-45b3-840a-0fe62c446d1b",
   "metadata": {},
   "outputs": [],
   "source": [
    "df = pd.read_json(\"vol7.json\")"
   ]
  },
  {
   "cell_type": "code",
   "execution_count": 7,
   "id": "1cafeae8-4bdc-404d-8aed-3c845cc22d77",
   "metadata": {},
   "outputs": [
    {
     "data": {
      "text/html": [
       "<div>\n",
       "<style scoped>\n",
       "    .dataframe tbody tr th:only-of-type {\n",
       "        vertical-align: middle;\n",
       "    }\n",
       "\n",
       "    .dataframe tbody tr th {\n",
       "        vertical-align: top;\n",
       "    }\n",
       "\n",
       "    .dataframe thead th {\n",
       "        text-align: right;\n",
       "    }\n",
       "</style>\n",
       "<table border=\"1\" class=\"dataframe\">\n",
       "  <thead>\n",
       "    <tr style=\"text-align: right;\">\n",
       "      <th></th>\n",
       "      <th>names</th>\n",
       "      <th>descriptions</th>\n",
       "    </tr>\n",
       "  </thead>\n",
       "  <tbody>\n",
       "    <tr>\n",
       "      <th>0</th>\n",
       "      <td>AARON, Thabo Simon</td>\n",
       "      <td>An ANCYL member who was shot and severely inju...</td>\n",
       "    </tr>\n",
       "    <tr>\n",
       "      <th>1</th>\n",
       "      <td>ABBOTT, Montaigne</td>\n",
       "      <td>A member of the SADF who was severely injured ...</td>\n",
       "    </tr>\n",
       "    <tr>\n",
       "      <th>2</th>\n",
       "      <td>ABDUL WAHAB, Zakier</td>\n",
       "      <td>A member of QIBLA who disappeared in September...</td>\n",
       "    </tr>\n",
       "    <tr>\n",
       "      <th>3</th>\n",
       "      <td>ABRAHAM, Nzaliseko Christopher</td>\n",
       "      <td>A COSAS supporter who was kicked and beaten wi...</td>\n",
       "    </tr>\n",
       "    <tr>\n",
       "      <th>4</th>\n",
       "      <td>ABRAHAMS, Achmat Fardiel</td>\n",
       "      <td>Was shot and blinded in one eye by members of ...</td>\n",
       "    </tr>\n",
       "    <tr>\n",
       "      <th>...</th>\n",
       "      <td>...</td>\n",
       "      <td>...</td>\n",
       "    </tr>\n",
       "    <tr>\n",
       "      <th>21742</th>\n",
       "      <td>ZWENI, Ernest</td>\n",
       "      <td>One of two South African Police (SAP) members ...</td>\n",
       "    </tr>\n",
       "    <tr>\n",
       "      <th>21743</th>\n",
       "      <td>ZWENI, Lebuti</td>\n",
       "      <td>An ANC supporter who was shot dead by a named ...</td>\n",
       "    </tr>\n",
       "    <tr>\n",
       "      <th>21744</th>\n",
       "      <td>ZWENI, Louis</td>\n",
       "      <td>Was shot dead in Tokoza, Transvaal, on 22 May ...</td>\n",
       "    </tr>\n",
       "    <tr>\n",
       "      <th>21745</th>\n",
       "      <td>ZWENI, Mpantesa William</td>\n",
       "      <td>His home was lost in an arson attack by Witdoe...</td>\n",
       "    </tr>\n",
       "    <tr>\n",
       "      <th>21746</th>\n",
       "      <td>ZWENI, Xolile Milton</td>\n",
       "      <td>A Transkei Defence Force (TDF) soldier who was...</td>\n",
       "    </tr>\n",
       "  </tbody>\n",
       "</table>\n",
       "<p>21747 rows × 2 columns</p>\n",
       "</div>"
      ],
      "text/plain": [
       "                                names  \\\n",
       "0                  AARON, Thabo Simon   \n",
       "1                   ABBOTT, Montaigne   \n",
       "2                 ABDUL WAHAB, Zakier   \n",
       "3      ABRAHAM, Nzaliseko Christopher   \n",
       "4            ABRAHAMS, Achmat Fardiel   \n",
       "...                               ...   \n",
       "21742                   ZWENI, Ernest   \n",
       "21743                   ZWENI, Lebuti   \n",
       "21744                    ZWENI, Louis   \n",
       "21745         ZWENI, Mpantesa William   \n",
       "21746            ZWENI, Xolile Milton   \n",
       "\n",
       "                                            descriptions  \n",
       "0      An ANCYL member who was shot and severely inju...  \n",
       "1      A member of the SADF who was severely injured ...  \n",
       "2      A member of QIBLA who disappeared in September...  \n",
       "3      A COSAS supporter who was kicked and beaten wi...  \n",
       "4      Was shot and blinded in one eye by members of ...  \n",
       "...                                                  ...  \n",
       "21742  One of two South African Police (SAP) members ...  \n",
       "21743  An ANC supporter who was shot dead by a named ...  \n",
       "21744  Was shot dead in Tokoza, Transvaal, on 22 May ...  \n",
       "21745  His home was lost in an arson attack by Witdoe...  \n",
       "21746  A Transkei Defence Force (TDF) soldier who was...  \n",
       "\n",
       "[21747 rows x 2 columns]"
      ]
     },
     "execution_count": 7,
     "metadata": {},
     "output_type": "execute_result"
    }
   ],
   "source": [
    "df"
   ]
  },
  {
   "cell_type": "code",
   "execution_count": 8,
   "id": "5cf6f880-b32d-42fa-a1e3-dc5493e3a697",
   "metadata": {},
   "outputs": [
    {
     "data": {
      "text/plain": [
       "\"An ANCYL member who was shot and severely injured by SAP members at Lephoi, Bethulie, Orange Free State (OFS) on 17 April 1991. Police opened fire on a gathering at an ANC supporter's house following a dispute between two neighbours, one of whom was linked to the ANC and the other to the SAP and a councillor.\""
      ]
     },
     "execution_count": 8,
     "metadata": {},
     "output_type": "execute_result"
    }
   ],
   "source": [
    "docs = df.descriptions.tolist()\n",
    "docs[0]"
   ]
  },
  {
   "cell_type": "code",
   "execution_count": 11,
   "id": "00744741-b0b1-4ee5-aebd-e37b75b26ecb",
   "metadata": {},
   "outputs": [
    {
     "name": "stderr",
     "output_type": "stream",
     "text": [
      "2025-03-31 16:02:51.201397: I tensorflow/core/util/port.cc:153] oneDNN custom operations are on. You may see slightly different numerical results due to floating-point round-off errors from different computation orders. To turn them off, set the environment variable `TF_ENABLE_ONEDNN_OPTS=0`.\n",
      "2025-03-31 16:02:51.364218: E external/local_xla/xla/stream_executor/cuda/cuda_fft.cc:467] Unable to register cuFFT factory: Attempting to register factory for plugin cuFFT when one has already been registered\n",
      "WARNING: All log messages before absl::InitializeLog() is called are written to STDERR\n",
      "E0000 00:00:1743417171.422315   51825 cuda_dnn.cc:8579] Unable to register cuDNN factory: Attempting to register factory for plugin cuDNN when one has already been registered\n",
      "E0000 00:00:1743417171.440180   51825 cuda_blas.cc:1407] Unable to register cuBLAS factory: Attempting to register factory for plugin cuBLAS when one has already been registered\n",
      "W0000 00:00:1743417171.558329   51825 computation_placer.cc:177] computation placer already registered. Please check linkage and avoid linking the same target more than once.\n",
      "W0000 00:00:1743417171.558351   51825 computation_placer.cc:177] computation placer already registered. Please check linkage and avoid linking the same target more than once.\n",
      "W0000 00:00:1743417171.558353   51825 computation_placer.cc:177] computation placer already registered. Please check linkage and avoid linking the same target more than once.\n",
      "W0000 00:00:1743417171.558354   51825 computation_placer.cc:177] computation placer already registered. Please check linkage and avoid linking the same target more than once.\n",
      "2025-03-31 16:02:51.571938: I tensorflow/core/platform/cpu_feature_guard.cc:210] This TensorFlow binary is optimized to use available CPU instructions in performance-critical operations.\n",
      "To enable the following instructions: AVX2 AVX512F AVX512_VNNI FMA, in other operations, rebuild TensorFlow with the appropriate compiler flags.\n"
     ]
    }
   ],
   "source": [
    "from top2vec import Top2Vec"
   ]
  },
  {
   "cell_type": "code",
   "execution_count": 12,
   "id": "9e1b7e2d-051a-4ae6-be34-79f2a6a7a5c2",
   "metadata": {},
   "outputs": [
    {
     "name": "stderr",
     "output_type": "stream",
     "text": [
      "2025-03-31 16:03:03,926 - top2vec - INFO - Pre-processing documents for training\n",
      "/home/sakshi/.local/lib/python3.10/site-packages/sklearn/feature_extraction/text.py:517: UserWarning: The parameter 'token_pattern' will not be used since 'tokenizer' is not None'\n",
      "  warnings.warn(\n",
      "2025-03-31 16:03:05,565 - top2vec - INFO - Downloading all-MiniLM-L6-v2 model\n"
     ]
    },
    {
     "data": {
      "application/vnd.jupyter.widget-view+json": {
       "model_id": "7ae8fc4d5006490aa2117f2ace2e44ed",
       "version_major": 2,
       "version_minor": 0
      },
      "text/plain": [
       "modules.json:   0%|          | 0.00/349 [00:00<?, ?B/s]"
      ]
     },
     "metadata": {},
     "output_type": "display_data"
    },
    {
     "data": {
      "application/vnd.jupyter.widget-view+json": {
       "model_id": "2e90451e3bac4bd4976dbe39f76499da",
       "version_major": 2,
       "version_minor": 0
      },
      "text/plain": [
       "config_sentence_transformers.json:   0%|          | 0.00/116 [00:00<?, ?B/s]"
      ]
     },
     "metadata": {},
     "output_type": "display_data"
    },
    {
     "data": {
      "application/vnd.jupyter.widget-view+json": {
       "model_id": "6c0eae472a954be9825577d0e790aa5d",
       "version_major": 2,
       "version_minor": 0
      },
      "text/plain": [
       "README.md:   0%|          | 0.00/10.5k [00:00<?, ?B/s]"
      ]
     },
     "metadata": {},
     "output_type": "display_data"
    },
    {
     "data": {
      "application/vnd.jupyter.widget-view+json": {
       "model_id": "a888d2a8427c46419b719e7575e4c50d",
       "version_major": 2,
       "version_minor": 0
      },
      "text/plain": [
       "sentence_bert_config.json:   0%|          | 0.00/53.0 [00:00<?, ?B/s]"
      ]
     },
     "metadata": {},
     "output_type": "display_data"
    },
    {
     "data": {
      "application/vnd.jupyter.widget-view+json": {
       "model_id": "97bde0e8f6a74d289ffc8f90c29c1408",
       "version_major": 2,
       "version_minor": 0
      },
      "text/plain": [
       "config.json:   0%|          | 0.00/612 [00:00<?, ?B/s]"
      ]
     },
     "metadata": {},
     "output_type": "display_data"
    },
    {
     "data": {
      "application/vnd.jupyter.widget-view+json": {
       "model_id": "cf703916198b485ca944e7215c44f1ee",
       "version_major": 2,
       "version_minor": 0
      },
      "text/plain": [
       "model.safetensors:   0%|          | 0.00/90.9M [00:00<?, ?B/s]"
      ]
     },
     "metadata": {},
     "output_type": "display_data"
    },
    {
     "data": {
      "application/vnd.jupyter.widget-view+json": {
       "model_id": "0c66491e7b5d4d5199f51e90eac6b656",
       "version_major": 2,
       "version_minor": 0
      },
      "text/plain": [
       "tokenizer_config.json:   0%|          | 0.00/350 [00:00<?, ?B/s]"
      ]
     },
     "metadata": {},
     "output_type": "display_data"
    },
    {
     "data": {
      "application/vnd.jupyter.widget-view+json": {
       "model_id": "2497f9e6420c491dbb3d02cbef807024",
       "version_major": 2,
       "version_minor": 0
      },
      "text/plain": [
       "vocab.txt:   0%|          | 0.00/232k [00:00<?, ?B/s]"
      ]
     },
     "metadata": {},
     "output_type": "display_data"
    },
    {
     "data": {
      "application/vnd.jupyter.widget-view+json": {
       "model_id": "46792d3f40484c48b70a61b47321ca86",
       "version_major": 2,
       "version_minor": 0
      },
      "text/plain": [
       "tokenizer.json:   0%|          | 0.00/466k [00:00<?, ?B/s]"
      ]
     },
     "metadata": {},
     "output_type": "display_data"
    },
    {
     "data": {
      "application/vnd.jupyter.widget-view+json": {
       "model_id": "ebae2c68678d4a0d9be75b555ac80637",
       "version_major": 2,
       "version_minor": 0
      },
      "text/plain": [
       "special_tokens_map.json:   0%|          | 0.00/112 [00:00<?, ?B/s]"
      ]
     },
     "metadata": {},
     "output_type": "display_data"
    },
    {
     "data": {
      "application/vnd.jupyter.widget-view+json": {
       "model_id": "4bb4e73c978c43928cc63e3953a5e264",
       "version_major": 2,
       "version_minor": 0
      },
      "text/plain": [
       "config.json:   0%|          | 0.00/190 [00:00<?, ?B/s]"
      ]
     },
     "metadata": {},
     "output_type": "display_data"
    },
    {
     "name": "stderr",
     "output_type": "stream",
     "text": [
      "2025-03-31 16:03:21,020 - top2vec - INFO - Creating joint document/word embedding\n",
      "2025-03-31 16:06:16,639 - top2vec - INFO - Creating lower dimension embedding of documents\n",
      "/home/sakshi/.local/lib/python3.10/site-packages/sklearn/utils/deprecation.py:151: FutureWarning: 'force_all_finite' was renamed to 'ensure_all_finite' in 1.6 and will be removed in 1.8.\n",
      "  warnings.warn(\n",
      "/home/sakshi/.local/lib/python3.10/site-packages/numba/np/ufunc/parallel.py:371: NumbaWarning: \u001b[1mThe TBB threading layer requires TBB version 2021 update 6 or later i.e., TBB_INTERFACE_VERSION >= 12060. Found TBB_INTERFACE_VERSION = 12050. The TBB threading layer is disabled.\u001b[0m\n",
      "  warnings.warn(problem)\n",
      "2025-03-31 16:06:47,258 - top2vec - INFO - Finding dense areas of documents\n",
      "/home/sakshi/.local/lib/python3.10/site-packages/sklearn/utils/deprecation.py:151: FutureWarning: 'force_all_finite' was renamed to 'ensure_all_finite' in 1.6 and will be removed in 1.8.\n",
      "  warnings.warn(\n",
      "/home/sakshi/.local/lib/python3.10/site-packages/sklearn/utils/deprecation.py:151: FutureWarning: 'force_all_finite' was renamed to 'ensure_all_finite' in 1.6 and will be removed in 1.8.\n",
      "  warnings.warn(\n",
      "2025-03-31 16:06:49,406 - top2vec - INFO - Finding topics\n"
     ]
    }
   ],
   "source": [
    "model = Top2Vec(docs)"
   ]
  },
  {
   "cell_type": "code",
   "execution_count": 13,
   "id": "cfaa1369-130a-4758-afd6-6c0fa8c24c3d",
   "metadata": {},
   "outputs": [
    {
     "name": "stdout",
     "output_type": "stream",
     "text": [
      "[3727  942  895  762  682  484  431  379  353  297  295  286  284  267\n",
      "  264  263  262  255  247  245  243  237  231  230  202  202  183  183\n",
      "  182  179  174  167  161  161  150  143  142  135  135  133  128  124\n",
      "  124  123  119  117  115  113  112  111  107  104   97   96   96   95\n",
      "   95   92   91   90   89   89   88   87   85   85   82   80   79   78\n",
      "   76   75   74   73   70   70   68   67   67   66   65   63   63   62\n",
      "   62   59   59   58   58   58   58   57   56   56   56   55   55   53\n",
      "   52   52   52   49   49   48   48   46   46   46   44   44   44   42\n",
      "   42   41   41   39   38   38   37   37   37   37   37   36   36   36\n",
      "   35   33   32   31   30   30   29   27   27   26   25   24   24   23\n",
      "   23   23   23   22   21   20   19   19   17   16   11]\n"
     ]
    }
   ],
   "source": [
    "topic_sizes, topic_nums = model.get_topic_sizes()\n",
    "print(topic_sizes)"
   ]
  },
  {
   "cell_type": "code",
   "execution_count": 14,
   "id": "d8189f46-1296-4d4f-9e56-20dd3eb47980",
   "metadata": {},
   "outputs": [
    {
     "name": "stdout",
     "output_type": "stream",
     "text": [
      "[  0   1   2   3   4   5   6   7   8   9  10  11  12  13  14  15  16  17\n",
      "  18  19  20  21  22  23  24  25  26  27  28  29  30  31  32  33  34  35\n",
      "  36  37  38  39  40  41  42  43  44  45  46  47  48  49  50  51  52  53\n",
      "  54  55  56  57  58  59  60  61  62  63  64  65  66  67  68  69  70  71\n",
      "  72  73  74  75  76  77  78  79  80  81  82  83  84  85  86  87  88  89\n",
      "  90  91  92  93  94  95  96  97  98  99 100 101 102 103 104 105 106 107\n",
      " 108 109 110 111 112 113 114 115 116 117 118 119 120 121 122 123 124 125\n",
      " 126 127 128 129 130 131 132 133 134 135 136 137 138 139 140 141 142 143\n",
      " 144 145 146 147 148 149 150]\n"
     ]
    }
   ],
   "source": [
    "print(topic_nums)"
   ]
  },
  {
   "cell_type": "code",
   "execution_count": 17,
   "id": "dc9820c0-fea5-401a-899c-fef8cedf8e94",
   "metadata": {},
   "outputs": [],
   "source": [
    "topic_words, word_scores, topic_nums = model.get_topics(2)"
   ]
  },
  {
   "cell_type": "code",
   "execution_count": 18,
   "id": "907cd0a9-ebbe-44f3-9a0e-e1948057b6da",
   "metadata": {},
   "outputs": [
    {
     "name": "stdout",
     "output_type": "stream",
     "text": [
      "0\n",
      "words: ['anc' 'supporter' 'gunmen' 'supporters' 'victims' 'mandela'\n",
      " 'perpetrators' 'attacked' 'pretoria' 'wounded' 'transvaal' 'aftermath'\n",
      " 'unrest' 'incident' 'fatally' 'massacre' 'durban' 'stabbed' 'assaulted'\n",
      " 'bombed' 'africa' 'arson' 'protesters' 'victim' 'retaliation' 'burnt'\n",
      " 'africans' 'ancyl' 'deaths' 'supporting' 'african' 'survived' 'amaafrika'\n",
      " 'killed' 'uprising' 'attackers' 'riot' 'lesotho' 'protests' 'councillor'\n",
      " 'ntuzuma' 'injured' 'johannesburg' 'support' 'gazankulu' 'natal'\n",
      " 'burning' 'fled' 'died' 'perpetrator']\n",
      "1\n",
      "words: ['gunmen' 'fatally' 'perpetrators' 'wounded' 'shooting' 'shot' 'victims'\n",
      " 'deaths' 'massacre' 'killed' 'incident' 'stabbed' 'mandela' 'transvaal'\n",
      " 'killings' 'shootings' 'johannesburg' 'bombed' 'survived' 'murder'\n",
      " 'arson' 'executed' 'died' 'sap' 'pretoria' 'aftermath' 'injured' 'durban'\n",
      " 'killing' 'assaulted' 'acquitted' 'policemen' 'convicted' 'shots'\n",
      " 'victim' 'gang' 'attacked' 'lesotho' 'krugersdorp' 'death' 'burnt'\n",
      " 'civilians' 'injuring' 'accused' 'policeman' 'fired' 'abducted'\n",
      " 'ambushed' 'armed' 'injuries']\n"
     ]
    }
   ],
   "source": [
    "for words, scores, num in zip(topic_words, word_scores, topic_nums):\n",
    "    print(num)\n",
    "    print(f\"words: {words}\")"
   ]
  },
  {
   "cell_type": "markdown",
   "id": "14511e64-8992-4289-a930-29258a6ab2f5",
   "metadata": {},
   "source": [
    "# this model is based on bert embeddings not keywords, so the documents overlap on a semantic and syntactical basis not just same word usage\n",
    "# like \"burn\" and \"arson\" would overlap\n",
    "# much better than something like TF-IDF which only cares about the frequency of words"
   ]
  },
  {
   "cell_type": "code",
   "execution_count": 22,
   "id": "5dca9865-e9d7-4c5d-989f-aecc38cbc414",
   "metadata": {},
   "outputs": [
    {
     "name": "stdout",
     "output_type": "stream",
     "text": [
      "Document: 12556, Score: 0.9386712312698364\n",
      "----------\n",
      "An ANC supporter who was stabbed and injured and had her house burnt down by IFP supporters in Mevamhlophe, KwaZulu, near Empangeni, Natal, on 21 February 1994. Her son was killed in the attack.\n",
      "----------\n",
      "\n",
      "Document: 2969, Score: 0.9377241730690002\n",
      "----------\n",
      "An ANC supporter who was shot and burnt to death when his home was attacked by named IFP supporters in Ekwazini, Ndwedwe, KwaZulu, near Durban, on 8 July 1990. Other family members were injured in the attack and at least one other person was killed.\n",
      "----------\n",
      "\n",
      "Document: 8046, Score: 0.936441957950592\n",
      "----------\n",
      "An ANC supporter who was shot and injured and had her home burnt down by IFP supporters in Somopho,  KwaZulu,  near Empangeni, Natal, on 9 May 1994 in ongoing political violence following the April 1994 elections. \n",
      "----------\n",
      "\n",
      "Document: 10628, Score: 0.9357600212097168\n",
      "----------\n",
      "An ANC supporter who was killed by IFP supporters at Mabhuyeni, KwaZulu, near Empangeni, Natal, 17 April 1992 in continuing political violence in the area. His father`s house was burnt down by IFP supporters on the same day.\n",
      "----------\n",
      "\n",
      "Document: 6052, Score: 0.9346564412117004\n",
      "----------\n",
      "An ANC supporter who was shot and killed by IFP supporters at KwaMadlala, near Port Shepstone, Natal, on 29 June 1992. His mother`s house was also burnt down during this period.\n",
      "----------\n",
      "\n",
      "Document: 9956, Score: 0.9339654445648193\n",
      "----------\n",
      "An ANC supporter who had her house burnt down by IFP supporters in Enteneshana, KwaZulu, near Empangeni, Natal, on 8 December 1993. In the attack, her son, an ANC supporter, was shot and burnt to death. Another son had been killed a year earlier, also in political conflict.\n",
      "----------\n",
      "\n",
      "Document: 816, Score: 0.9332817196846008\n",
      "----------\n",
      "An ANC supporter who was beaten, shot at, and had his home burnt down, by named IFP supporters in Ezakheni, KwaZulu, near Ladysmith, Natal, on 17 November 1992.\n",
      "----------\n",
      "\n",
      "Document: 13545, Score: 0.9319780468940735\n",
      "----------\n",
      "An ANC supporter who was shot dead and had her house burnt down by IFP supporters in Umbumbulu, KwaZulu, near Durban, on 4 September 1992.\n",
      "----------\n",
      "\n",
      "Document: 17969, Score: 0.9282883405685425\n",
      "----------\n",
      "An ANC supporter who had her home burnt down by IFP supporters in Esikhawini, KwaZulu, near Empangeni, Natal, in April 1993. Her son was shot and severely injured in the attack. \n",
      "----------\n",
      "\n",
      "Document: 8437, Score: 0.9278532862663269\n",
      "----------\n",
      "An ANC supporter who had her home burnt down by IFP supporters in Ondondolo, KwaZulu, near Empangeni, Natal, in 1994 during the run-up to the April 1994 elections. A male relative was killed during the attack on her house.\n",
      "----------\n",
      "\n"
     ]
    }
   ],
   "source": [
    "#shows the top 10 most similar documents in the cluster\n",
    "#score associated with each document is the degree to which it corresponds to the core cluster\n",
    "#further down you go, the less similar the documents are\n",
    "documents, document_scores, document_ids = model.search_documents_by_topic(topic_num=0, num_docs=10)\n",
    "for doc, score, doc_id in zip(documents, document_scores, document_ids):\n",
    "    print(f\"Document: {doc_id}, Score: {score}\")\n",
    "    print('----------')\n",
    "    print(doc)\n",
    "    print('----------')\n",
    "    print()"
   ]
  }
 ],
 "metadata": {
  "kernelspec": {
   "display_name": "Python 3 (ipykernel)",
   "language": "python",
   "name": "python3"
  },
  "language_info": {
   "codemirror_mode": {
    "name": "ipython",
    "version": 3
   },
   "file_extension": ".py",
   "mimetype": "text/x-python",
   "name": "python",
   "nbconvert_exporter": "python",
   "pygments_lexer": "ipython3",
   "version": "3.10.12"
  }
 },
 "nbformat": 4,
 "nbformat_minor": 5
}
